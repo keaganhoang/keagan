{
 "cells": [
  {
   "cell_type": "markdown",
   "metadata": {},
   "source": [
    "<center>\n",
    "    <img src=\"https://cf-courses-data.s3.us.cloud-object-storage.appdomain.cloud/IBMDeveloperSkillsNetwork-DS0105EN-SkillsNetwork/labs/Module2/images/SN_web_lightmode.png\" width=\"300\" alt=\"cognitiveclass.ai logo\">\n",
    "</center>\n"
   ]
  },
  {
   "cell_type": "markdown",
   "metadata": {},
   "source": [
    "# My Jupiter Notebook on IBM Watson Studio"
   ]
  },
  {
   "cell_type": "markdown",
   "metadata": {},
   "source": [
    "by Keagan"
   ]
  },
  {
   "cell_type": "markdown",
   "metadata": {},
   "source": [
    "*I am interested in Data Science because I love to solve problems by tackling numbers.*"
   ]
  },
  {
   "cell_type": "markdown",
   "metadata": {},
   "source": [
    "Data Science languages: \n",
    "1. R\n",
    "2. Python\n",
    "3. SQL"
   ]
  },
  {
   "cell_type": "markdown",
   "metadata": {},
   "source": [
    "Data Science libraries: \n",
    "1. Numpy\n",
    "2. Pandas\n",
    "3. Matplot.lib\n",
    "4. Scikit.learn"
   ]
  },
  {
   "cell_type": "markdown",
   "metadata": {},
   "source": [
    "| Tool Name            | Category             | Description                                                            |\n",
    "|----------------------|----------------------|------------------------------------------------------------------------|\n",
    "| Python               | Programming Language | Widely used for machine learning, data analysis, and statistical modeling. |\n",
    "| R                    | Programming Language | Used for statistical analysis and data visualization.                  |\n",
    "| Jupyter Notebooks    | Development Environment | Open-source web application for creating and sharing live code, equations, and visualizations. |\n",
    "| Pandas               | Python Library       | A data manipulation and analysis library, especially for structured data. |\n",
    "| NumPy                | Python Library       | Provides support for arrays, matrices, and mathematical functions.      |\n",
    "| Matplotlib           | Python Library       | A 2D plotting library used for data visualization.                       |\n"
   ]
  },
  {
   "cell_type": "markdown",
   "metadata": {},
   "source": [
    "### Example Arithmetic Expressions:\n",
    "\n",
    "1. **Addition**:\n",
    "   ```python\n",
    "   result = 10 + 5\n",
    "   print(result)  # Output: 15"
   ]
  },
  {
   "cell_type": "code",
   "execution_count": 1,
   "metadata": {},
   "outputs": [
    {
     "name": "stdout",
     "output_type": "stream",
     "text": [
      "Multiplication Result: 50\n",
      "Addition Result: 13\n"
     ]
    }
   ],
   "source": [
    "# Define the numbers\n",
    "num1 = 10\n",
    "num2 = 5\n",
    "num3 = 3\n",
    "\n",
    "# Perform multiplication\n",
    "multiplication_result = num1 * num2\n",
    "\n",
    "# Perform addition\n",
    "addition_result = num1 + num3\n",
    "\n",
    "# Output the results\n",
    "print(\"Multiplication Result:\", multiplication_result)\n",
    "print(\"Addition Result:\", addition_result)"
   ]
  },
  {
   "cell_type": "code",
   "execution_count": 2,
   "metadata": {},
   "outputs": [
    {
     "name": "stdout",
     "output_type": "stream",
     "text": [
      "150 minutes is equal to 2.5 hours.\n"
     ]
    }
   ],
   "source": [
    "# Function to convert minutes to hours\n",
    "def convert_minutes_to_hours(minutes):\n",
    "    hours = minutes / 60\n",
    "    return hours\n",
    "\n",
    "# Example: Convert 150 minutes to hours\n",
    "minutes = 150\n",
    "hours = convert_minutes_to_hours(minutes)\n",
    "\n",
    "# Output the result\n",
    "print(f\"{minutes} minutes is equal to {hours} hours.\")\n"
   ]
  },
  {
   "cell_type": "markdown",
   "metadata": {},
   "source": [
    "## Objectives\n",
    "\n",
    "- Understand the basics of Python programming and data types.\n",
    "- Learn how to manipulate and analyze data using Python libraries like Pandas and NumPy.\n",
    "- Master various methods for data visualization with tools like Matplotlib and Seaborn.\n",
    "\n"
   ]
  },
  {
   "cell_type": "markdown",
   "metadata": {},
   "source": [
    "## Author\n",
    "\n",
    "- **Name:** keagan\n"
   ]
  },
  {
   "cell_type": "code",
   "execution_count": null,
   "metadata": {},
   "outputs": [],
   "source": []
  }
 ],
 "metadata": {
  "kernelspec": {
   "display_name": "Python 3 (ipykernel)",
   "language": "python",
   "name": "python3"
  },
  "language_info": {
   "codemirror_mode": {
    "name": "ipython",
    "version": 3
   },
   "file_extension": ".py",
   "mimetype": "text/x-python",
   "name": "python",
   "nbconvert_exporter": "python",
   "pygments_lexer": "ipython3",
   "version": "3.12.8"
  }
 },
 "nbformat": 4,
 "nbformat_minor": 4
}
